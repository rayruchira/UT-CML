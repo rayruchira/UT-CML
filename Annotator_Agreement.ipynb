{
  "nbformat": 4,
  "nbformat_minor": 0,
  "metadata": {
    "colab": {
      "provenance": []
    },
    "kernelspec": {
      "name": "python3",
      "display_name": "Python 3"
    },
    "language_info": {
      "name": "python"
    }
  },
  "cells": [
    {
      "cell_type": "code",
      "source": [
        "from google.colab import drive\n",
        "drive.mount('/content/drive')"
      ],
      "metadata": {
        "colab": {
          "base_uri": "https://localhost:8080/"
        },
        "id": "N2u_B6h23tFQ",
        "outputId": "dcb6243b-dd5e-4eba-a552-e1d99054c195"
      },
      "execution_count": 1,
      "outputs": [
        {
          "output_type": "stream",
          "name": "stdout",
          "text": [
            "Mounted at /content/drive\n"
          ]
        }
      ]
    },
    {
      "cell_type": "code",
      "execution_count": 71,
      "metadata": {
        "id": "7aoA1sRQ0CjD"
      },
      "outputs": [],
      "source": [
        "from sklearn.metrics import cohen_kappa_score\n",
        "import pandas as pd\n",
        "import numpy as np"
      ]
    },
    {
      "cell_type": "code",
      "source": [
        "ruchira=pd.read_csv(\"/content/Ruchira.csv\")\n",
        "allison= pd.read_csv(\"/content/Allison.csv\")\n",
        "\n",
        "ruchira= ruchira.loc[:48, :\"Other\"]\n",
        "allison= allison[:49]\n",
        "print(ruchira.shape)\n",
        "print(allison.shape)"
      ],
      "metadata": {
        "colab": {
          "base_uri": "https://localhost:8080/"
        },
        "id": "NPUHrDvg6A1_",
        "outputId": "7dfcebd2-1f56-4141-bbb6-56223b063eba"
      },
      "execution_count": 45,
      "outputs": [
        {
          "output_type": "stream",
          "name": "stdout",
          "text": [
            "(49, 18)\n",
            "(49, 18)\n"
          ]
        }
      ]
    },
    {
      "cell_type": "code",
      "source": [
        "df=ruchira\n",
        "cols_to_replace = [\"Social Movements, politics, policy, and Activism\",\"News\",\"Mis/Disinformation\",\"Social Stratification or Segregation\",\"Economic sociology\",\"Health\",\"Other\"]\n",
        "\n",
        "df[cols_to_replace] = df[cols_to_replace].fillna(0)\n",
        "a=['1', 'x', 'TRUE']\n",
        "df[cols_to_replace] = df[cols_to_replace].replace('x', 1)\n",
        "df[cols_to_replace] = df[cols_to_replace].replace(1, 1)\n",
        "df[cols_to_replace] = df[cols_to_replace].replace('TRUE', 1)\n",
        "df[cols_to_replace] = df[cols_to_replace].replace('FALSE', 0)\n",
        "\n",
        "\n",
        "# cols_to_check = [\"Social Movements, politics, policy, and Activism\",\"News\",\"Mis/Disinformation\",\"Social Stratification or Segregation\",\"Economic sociology\",\"Health\"]\n",
        "\n",
        "# df['Other'] = df[cols_to_check].any(axis=1)\n",
        "\n",
        "# df['Other']= df['Other']*2\n",
        "# print(df)\n",
        "# df['Other']= df['Other'].replace(0, 1)\n",
        "# df['Other']= df['Other'].replace(2, 0)\n",
        "\n",
        "# # save the updated data as a new CSV file\n",
        "# df.to_csv('/Users/ruchiraray/Documents/UT CML/output_file.csv', index=False)\n",
        "\n",
        "ruchira=df\n"
      ],
      "metadata": {
        "id": "7jZncZFT-R0m"
      },
      "execution_count": 59,
      "outputs": []
    },
    {
      "cell_type": "code",
      "source": [
        "# print(allison.T.iloc[11])\n",
        "# print(ruchira.T)\n",
        "\n",
        "dict_ru= {}\n",
        "dict_al={}\n",
        "for i in range(11,18):\n",
        "  dict_ru[cols_to_replace[i-11]]= ruchira.T.iloc[i].values.tolist()\n",
        "  dict_al[cols_to_replace[i-11]]= allison.T.iloc[i].values.tolist()"
      ],
      "metadata": {
        "id": "kYiN8jcy_NNY"
      },
      "execution_count": 65,
      "outputs": []
    },
    {
      "cell_type": "code",
      "source": [
        "dict_al"
      ],
      "metadata": {
        "id": "RglJzGA5WNB2"
      },
      "execution_count": null,
      "outputs": []
    },
    {
      "cell_type": "code",
      "source": [
        "# to_dict = lambda x: {k: [1 if k in y else 0 for y in x] for k in cols_to_replace}\n",
        "a_dict = dict_ru\n",
        "b_dict = dict_al\n",
        "\n",
        "\n",
        "cohen_dict = {k: cohen_kappa_score(a_dict[k], b_dict[k]) for k in cols_to_replace}\n",
        "cohen_avg = np.mean(list(cohen_dict.values()))\n",
        "\n",
        "print(f'a_dict: {a_dict}')\n",
        "print(f'b_dict: {b_dict}')\n",
        "print(f'cohen_dict: {cohen_dict}')\n",
        "print(f'cohen_avg: {cohen_avg}')"
      ],
      "metadata": {
        "id": "XJmIp5BM2nmY",
        "colab": {
          "base_uri": "https://localhost:8080/"
        },
        "outputId": "c20569b9-f7e2-4740-ec4e-a4c49d7f7fe3"
      },
      "execution_count": 72,
      "outputs": [
        {
          "output_type": "stream",
          "name": "stdout",
          "text": [
            "a_dict: {'Social Movements, politics, policy, and Activism': [1.0, 0.0, 0.0, 1.0, 0.0, 0.0, 0.0, 1.0, 0.0, 1.0, 1.0, 1.0, 1.0, 1.0, 1.0, 1.0, 1.0, 0.0, 1.0, 1.0, 1.0, 0.0, 0.0, 1.0, 0.0, 0.0, 1.0, 1.0, 0.0, 1.0, 1.0, 1.0, 1.0, 1.0, 0.0, 1.0, 1.0, 0.0, 0.0, 0.0, 0.0, 0.0, 0.0, 0.0, 1.0, 0.0, 0.0, 1.0, 1.0], 'News': [1.0, 0.0, 1.0, 0.0, 0.0, 1.0, 1.0, 1.0, 1.0, 1.0, 1.0, 1.0, 1.0, 1.0, 1.0, 1.0, 1.0, 1.0, 0.0, 0.0, 0.0, 1.0, 1.0, 0.0, 1.0, 1.0, 0.0, 1.0, 0.0, 1.0, 1.0, 0.0, 0.0, 1.0, 1.0, 0.0, 1.0, 1.0, 1.0, 1.0, 1.0, 0.0, 1.0, 0.0, 1.0, 0.0, 1.0, 1.0, 1.0], 'Mis/Disinformation': [0.0, 0.0, 0.0, 0.0, 0.0, 0.0, 0.0, 0.0, 1.0, 0.0, 0.0, 1.0, 0.0, 0.0, 0.0, 0.0, 1.0, 1.0, 0.0, 0.0, 1.0, 1.0, 0.0, 0.0, 0.0, 0.0, 0.0, 0.0, 0.0, 1.0, 0.0, 0.0, 0.0, 0.0, 0.0, 0.0, 0.0, 1.0, 0.0, 1.0, 1.0, 0.0, 0.0, 0.0, 1.0, 0.0, 1.0, 0.0, 1.0], 'Social Stratification or Segregation': [0.0, 0.0, 0.0, 0.0, 0.0, 0.0, 1.0, 1.0, 1.0, 0.0, 0.0, 1.0, 1.0, 1.0, 0.0, 0.0, 1.0, 1.0, 0.0, 0.0, 0.0, 0.0, 0.0, 0.0, 0.0, 1.0, 0.0, 1.0, 0.0, 0.0, 0.0, 0.0, 0.0, 1.0, 1.0, 1.0, 0.0, 0.0, 0.0, 0.0, 0.0, 0.0, 0.0, 1.0, 0.0, 0.0, 0.0, 0.0, 1.0], 'Economic sociology': [1.0, 0.0, 0.0, 0.0, 0.0, 0.0, 0.0, 1.0, 1.0, 1.0, 0.0, 1.0, 0.0, 0.0, 0.0, 1.0, 0.0, 0.0, 0.0, 0.0, 1.0, 1.0, 1.0, 0.0, 0.0, 0.0, 0.0, 0.0, 0.0, 0.0, 0.0, 0.0, 0.0, 0.0, 1.0, 0.0, 0.0, 0.0, 0.0, 0.0, 0.0, 0.0, 0.0, 1.0, 0.0, 0.0, 0.0, 0.0, 0.0], 'Health': [1.0, 0.0, 1.0, 1.0, 1.0, 1.0, 1.0, 0.0, 1.0, 0.0, 0.0, 0.0, 0.0, 0.0, 0.0, 0.0, 0.0, 1.0, 1.0, 1.0, 0.0, 1.0, 1.0, 1.0, 1.0, 1.0, 0.0, 0.0, 0.0, 0.0, 0.0, 0.0, 0.0, 0.0, 0.0, 0.0, 0.0, 0.0, 0.0, 0.0, 0.0, 0.0, 0.0, 0.0, 1.0, 0.0, 1.0, 1.0, 0.0], 'Other': [0.0, 1.0, 0.0, 0.0, 0.0, 0.0, 0.0, 0.0, 0.0, 0.0, 0.0, 0.0, 0.0, 0.0, 0.0, 0.0, 0.0, 0.0, 0.0, 0.0, 0.0, 0.0, 0.0, 0.0, 0.0, 0.0, 0.0, 0.0, 1.0, 0.0, 0.0, 0.0, 0.0, 0.0, 0.0, 0.0, 0.0, 0.0, 0.0, 0.0, 0.0, 1.0, 0.0, 0.0, 0.0, 1.0, 0.0, 0.0, 0.0]}\n",
            "b_dict: {'Social Movements, politics, policy, and Activism': [0, 0, 0, 0, 0, 0, 0, 1, 0, 0, 0, 0, 1, 1, 0, 1, 0, 0, 0, 0, 0, 0, 1, 0, 0, 0, 0, 0, 0, 0, 0, 0, 0, 1, 0, 1, 0, 0, 0, 0, 0, 0, 0, 0, 0, 0, 0, 0, 0], 'News': [0, 0, 0, 1, 0, 0, 0, 0, 0, 1, 0, 0, 0, 0, 0, 0, 0, 0, 0, 0, 0, 0, 0, 1, 0, 0, 0, 0, 0, 0, 0, 1, 0, 0, 0, 0, 0, 1, 0, 0, 0, 0, 0, 0, 1, 0, 1, 1, 1], 'Mis/Disinformation': [0, 0, 0, 0, 0, 0, 0, 0, 0, 1, 0, 0, 0, 0, 0, 0, 0, 0, 0, 0, 0, 0, 0, 0, 0, 0, 1, 0, 0, 0, 1, 0, 0, 0, 0, 0, 0, 1, 0, 0, 1, 0, 0, 0, 1, 0, 0, 0, 1], 'Social Stratification or Segregation': [0, 0, 0, 0, 0, 0, 0, 1, 0, 0, 0, 0, 0, 0, 0, 0, 0, 0, 0, 0, 0, 0, 0, 0, 0, 0, 0, 0, 0, 0, 0, 0, 0, 0, 0, 0, 0, 0, 0, 0, 0, 0, 0, 1, 0, 0, 0, 0, 0], 'Economic sociology': [0.0, 0.0, 0.0, 0.0, 0.0, 0.0, 0.0, 0.0, 0.0, 0.0, 0.0, 0.0, 0.0, 0.0, 0.0, 0.0, 0.0, 0.0, 0.0, 0.0, 0.0, 0.0, 0.0, 0.0, 0.0, 0.0, 0.0, 0.0, 0.0, 0.0, 0.0, 0.0, 0.0, 0.0, 0.0, 0.0, 0.0, 0.0, 0.0, 0.0, 0.0, 0.0, 0.0, 0.0, 0.0, 0.0, 0.0, 0.0, 0.0], 'Health': [1, 0, 1, 0, 1, 0, 0, 0, 0, 0, 0, 0, 0, 0, 0, 0, 0, 0, 0, 1, 0, 0, 0, 1, 1, 1, 0, 0, 0, 0, 0, 0, 0, 0, 0, 0, 0, 0, 0, 0, 0, 0, 0, 0, 1, 0, 1, 0, 0], 'Other': [0, 1, 0, 0, 0, 1, 1, 0, 1, 0, 1, 1, 0, 0, 1, 0, 1, 1, 1, 0, 1, 1, 0, 0, 0, 0, 1, 1, 1, 1, 0, 0, 1, 0, 1, 0, 1, 0, 1, 1, 0, 1, 1, 0, 0, 1, 0, 0, 0]}\n",
            "cohen_dict: {'Social Movements, politics, policy, and Activism': 0.1630434782608695, 'News': -0.016053511705685697, 'Mis/Disinformation': 0.26315789473684204, 'Social Stratification or Segregation': 0.17593790426908162, 'Economic sociology': 0.0, 'Health': 0.5585585585585586, 'Other': 0.16949152542372892}\n",
            "cohen_avg: 0.18773369279191357\n"
          ]
        }
      ]
    },
    {
      "cell_type": "code",
      "source": [],
      "metadata": {
        "id": "EuwfF2wI59bO"
      },
      "execution_count": null,
      "outputs": []
    }
  ]
}